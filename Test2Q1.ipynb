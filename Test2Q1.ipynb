{
 "cells": [
  {
   "cell_type": "markdown",
   "metadata": {},
   "source": [
    "# Read the Input File"
   ]
  },
  {
   "cell_type": "code",
   "execution_count": 214,
   "metadata": {},
   "outputs": [
    {
     "name": "stdout",
     "output_type": "stream",
     "text": [
      "['$age', '=', '25', '$_age', '$55', '$salary', '=', '1445.50', '\"abc\"', \"'c'\", 'String', 'int', 'char', 'float', 'void', '+', '-', '/', '*', '=', 'and', 'or', '{', '}[', ']', '(', ')', '%', '%data', '=', \"'google'\", '45', \"'runoob'\", '30', \"'taobao'\", '40', '@names', '=', \"'google'\", \"'runoob'\", \"'taobao'\"]\n"
     ]
    }
   ],
   "source": [
    "import os\n",
    "import string\n",
    "f = open(\"perl.txt\", \"r\")\n",
    "text = f.read()\n",
    "list_text = list(text.split())\n",
    "print(list_text)"
   ]
  },
  {
   "cell_type": "markdown",
   "metadata": {},
   "source": [
    "# Create Token Dictionary and Lexemes Dictionary"
   ]
  },
  {
   "cell_type": "code",
   "execution_count": 215,
   "metadata": {
    "scrolled": false
   },
   "outputs": [
    {
     "name": "stdout",
     "output_type": "stream",
     "text": [
      "dict_keys(['perl_Scalar', 'perl_array', 'Java-Style string literal', 'C-Style integer literal', 'C-Style character literal', 'C-Style floating point literal', 'String', 'Integer', 'Character', 'Float', 'Addition', 'Assignment', 'Subtraction', 'Division', 'Multiplication', 'Modulo Operator', 'Logical And', 'Logical Or', 'Logical Not', 'Open Code Block', 'Close Code Block', 'Open Function parameter', 'Close Function parameter', 'Open Array index parameter', 'Close Array index parameter', 'perl_hash', 'void'])\n",
      "dict_values([1, 2, 3, 4, 5, 6, 7, 8, 9, 10, 11, 12, 13, 14, 15, 16, 17, 18, 19, 20, 21, 22, 23, 24, 25, 26, 27])\n"
     ]
    }
   ],
   "source": [
    "dict_token = {'perl_Scalar':1, 'perl_array':2, 'Java-Style string literal':3, 'C-Style integer literal':4, \n",
    "              'C-Style character literal':5, 'C-Style floating point literal':6,'String':7,'Integer':8,'Character':9,\n",
    "              'Float':10,'Addition':11,'Assignment':12,'Subtraction':13,'Division':14,'Multiplication':15,\n",
    "              'Modulo Operator':16,'Logical And':17,'Logical Or':18,'Logical Not':19,'Open Code Block':20,\n",
    "              'Close Code Block':21,'Open Function parameter':22,'Close Function parameter':23,\n",
    "              'Open Array index parameter':24,'Close Array index parameter':25,'perl_hash':26, 'void':27}\n",
    "print(dict_token.keys())\n",
    "print(dict_token.values())\n",
    "keys = [] #create a list to store keys\n",
    "dict_lexemes = {} #store identified lemxemes and it's type"
   ]
  },
  {
   "cell_type": "markdown",
   "metadata": {},
   "source": [
    "# Perl Style Identifiers"
   ]
  },
  {
   "cell_type": "code",
   "execution_count": 216,
   "metadata": {},
   "outputs": [
    {
     "name": "stdout",
     "output_type": "stream",
     "text": [
      "['$age', '$_age', '$55', '$salary', '%', '%data', '@names']\n"
     ]
    }
   ],
   "source": [
    "# A scalar variable starts with a dollar sign ($), \n",
    "# followed by a letter or underscore, after that, \n",
    "# any combination of numbers, letters, and underscores\n",
    "\n",
    "# an array variable begins with an at-sign ( @).\n",
    "\n",
    "# A hash variable must begin with a percent sign ( %).\n",
    "#If the first character is _, then it's private, otherwise it's public\n",
    "start = ['$', '%', '@']\n",
    "possible_idntifier = []\n",
    "for i in start:\n",
    "    for j in list_text:\n",
    "        if j.startswith(i):\n",
    "            possible_idntifier.append(j)\n",
    "print(possible_idntifier)            "
   ]
  },
  {
   "cell_type": "code",
   "execution_count": 217,
   "metadata": {},
   "outputs": [
    {
     "name": "stdout",
     "output_type": "stream",
     "text": [
      "$age is a perl_Scalar ,the token is 1 and the scope is public\n",
      "$_age is a perl_Scalar ,the token is 1 and the scope is private\n",
      "$salary is a perl_Scalar ,the token is 1 and the scope is public\n",
      "%data is a perl_hash ,the token is 26 and the scope is public\n",
      "@names is a perl_array ,the token is 2 and the scope is public\n"
     ]
    }
   ],
   "source": [
    "scope = ['private','public']\n",
    "for idt in possible_idntifier:\n",
    "    if idt.startswith(\"$\"):\n",
    "        dict_lexemes[idt] = \"perl_Scalar\"\n",
    "    if idt.startswith(\"@\"):\n",
    "        dict_lexemes[idt] = \"perl_array\"\n",
    "    if idt.startswith(\"%\"):\n",
    "        dict_lexemes[idt] = \"perl_hash\"\n",
    "    tmp = idt\n",
    "    if len(tmp)!= 1:\n",
    "        tmp = tmp[1:]\n",
    "    if tmp.startswith(\"_\"):\n",
    "        idt_scope = scope[0]\n",
    "        tmp = tmp[1:]\n",
    "        while tmp!=\"\":\n",
    "            if tmp.startswith(\"_\") or tmp[0].isalpha() or type(tmp[0]) == int:\n",
    "                tmp = tmp[1:]\n",
    "            else:\n",
    "                break\n",
    "        if tmp==\"\":\n",
    "            print(idt,\"is a\",dict_lexemes[idt],\",the token is\",dict_token[dict_lexemes[idt]],\"and the scope is\", idt_scope)\n",
    "#             list_text.remove(idt) #delete identified tokens\n",
    "        else:\n",
    "            continue        \n",
    "    elif tmp[0].isalpha():\n",
    "        idt_scope = scope[1]\n",
    "        tmp = tmp[1:]\n",
    "        while tmp!=\"\":\n",
    "            if tmp.startswith(\"_\") or tmp[0].isalpha() or type(tmp[0]) == int:\n",
    "                tmp = tmp[1:]\n",
    "            else:\n",
    "                break\n",
    "        if tmp==\"\":\n",
    "            print(idt,\"is a\",dict_lexemes[idt],\",the token is\",dict_token[dict_lexemes[idt]],\"and the scope is\", idt_scope)\n",
    "#             list_text.remove(idt) #delete identified tokens\n",
    "        else:\n",
    "            continue\n",
    "    else:\n",
    "        continue"
   ]
  },
  {
   "cell_type": "markdown",
   "metadata": {},
   "source": [
    "# Literals"
   ]
  },
  {
   "cell_type": "code",
   "execution_count": 218,
   "metadata": {},
   "outputs": [
    {
     "name": "stdout",
     "output_type": "stream",
     "text": [
      "\"abc\" is a Java-Style string literal ,the token is 3\n",
      "'c' is a C-Style character literal ,the token is 5\n",
      "25 is a C-Style integer literal ,the token is 4\n",
      "1445.50 is a C-Style floating point literal ,the token is 6\n",
      "45 is a C-Style integer literal ,the token is 4\n",
      "30 is a C-Style integer literal ,the token is 4\n",
      "40 is a C-Style integer literal ,the token is 4\n"
     ]
    }
   ],
   "source": [
    "# – Java-Style string literals\n",
    "# – C-Style integer literals\n",
    "# – C-Style character literals\n",
    "# – C-Style floating point literals\n",
    "number = ['0','1','2','3','4','5','6','7','8','9']\n",
    "possible_number = []\n",
    "# – Java-Style string literals and C-Style character literals\n",
    "for idt in list_text:\n",
    "    if idt.startswith(\"\\\"\") and idt.endswith(\"\\\"\"):\n",
    "        dict_lexemes[idt] = \"Java-Style string literal\"\n",
    "        print(idt,\"is a\",dict_lexemes[idt],\",the token is\",dict_token[dict_lexemes[idt]])\n",
    "#         list_text.remove(idt)\n",
    "        continue\n",
    "    if idt.startswith(\"\\'\") and idt.endswith(\"\\'\"):\n",
    "        tmp = idt\n",
    "        tmp = tmp[1:-1]\n",
    "        if len(tmp) ==1:\n",
    "            dict_lexemes[idt] = \"C-Style character literal\"\n",
    "            print(idt,\"is a\",dict_lexemes[idt],\",the token is\",dict_token[dict_lexemes[idt]])\n",
    "#         list_text.remove(idt)\n",
    "   \n",
    "# – C-Style integer literals and C-Style floating point literals,use flag to check if it's valid\n",
    "    for i in number:\n",
    "        if(idt.startswith(i) or idt.startswith('.')):\n",
    "            possible_number.append(idt)\n",
    "for i in possible_number:\n",
    "    flag1 = 2\n",
    "    flag2 = 2\n",
    "    for k in number:\n",
    "        for j in i: \n",
    "            if (k==j and flag1 == 0) or (k==j and flag1 == 1) or (k==j and flag1 == 2):\n",
    "                flag1 = 0\n",
    "            if (j=='.' and flag1==0) or (j=='.' and flag==2):\n",
    "                flag2 = 1\n",
    "    if flag1 == 0 and flag2 ==2:\n",
    "        dict_lexemes[i] = \"C-Style integer literal\"\n",
    "        print(i,\"is a\",dict_lexemes[i],\",the token is\",dict_token[dict_lexemes[i]])\n",
    "    #   list_text.remove(i)\n",
    "        continue    \n",
    "    if flag1 == 0 and flag2 ==1:\n",
    "        dict_lexemes[i] = \"C-Style floating point literal\"\n",
    "        print(i,\"is a\",dict_lexemes[i],\",the token is\",dict_token[dict_lexemes[i]])\n",
    "    #   list_text.remove(i)\n",
    "#       continue"
   ]
  },
  {
   "cell_type": "markdown",
   "metadata": {},
   "source": [
    "# Type Declarations"
   ]
  },
  {
   "cell_type": "code",
   "execution_count": 220,
   "metadata": {},
   "outputs": [
    {
     "name": "stdout",
     "output_type": "stream",
     "text": [
      "String is a String ,the token is 7\n",
      "int is a Integer ,the token is 8\n",
      "char is a Character ,the token is 9\n",
      "float is a Float ,the token is 10\n",
      "void is a void ,the token is 27\n"
     ]
    }
   ],
   "source": [
    "# – String: String\n",
    "# – Integer: int\n",
    "# – Character: char\n",
    "# – Float: float\n",
    "# – Void: void\n",
    "for idt in list_text:\n",
    "    if idt=='String':\n",
    "        dict_lexemes[idt] = \"String\"\n",
    "        print(idt,\"is a\",dict_lexemes[idt],\",the token is\",dict_token[dict_lexemes[idt]])\n",
    "    if idt=='int':\n",
    "        dict_lexemes[idt] = \"Integer\"\n",
    "        print(idt,\"is a\",dict_lexemes[idt],\",the token is\",dict_token[dict_lexemes[idt]])\n",
    "    if idt=='float':\n",
    "        dict_lexemes[idt] = \"Float\"\n",
    "        print(idt,\"is a\",dict_lexemes[idt],\",the token is\",dict_token[dict_lexemes[idt]])\n",
    "    if idt=='void':\n",
    "        dict_lexemes[idt] = \"void\"\n",
    "        print(idt,\"is a\",dict_lexemes[idt],\",the token is\",dict_token[dict_lexemes[idt]])\n",
    "    if idt=='char':\n",
    "        dict_lexemes[idt] = \"Character\"\n",
    "        print(idt,\"is a\",dict_lexemes[idt],\",the token is\",dict_token[dict_lexemes[idt]])"
   ]
  },
  {
   "cell_type": "markdown",
   "metadata": {},
   "source": [
    "# Non-Alphanumeric symbols"
   ]
  },
  {
   "cell_type": "code",
   "execution_count": 221,
   "metadata": {},
   "outputs": [
    {
     "name": "stdout",
     "output_type": "stream",
     "text": [
      "= is a Assignment ,the token is 12\n",
      "= is a Assignment ,the token is 12\n",
      "+ is a Addition ,the token is 11\n",
      "- is a Subtraction ,the token is 13\n",
      "/ is a Division ,the token is 14\n",
      "* is a Multiplication ,the token is 15\n",
      "= is a Assignment ,the token is 12\n",
      "and is a Logical And ,the token is 17\n",
      "or is a Logical Or ,the token is 18\n",
      "{ is a Open Code Block ,the token is 20\n",
      "] is a Close Array index parameter ,the token is 25\n",
      "( is a Open Function parameter ,the token is 22\n",
      ") is a Close Function parameter ,the token is 23\n",
      "% is a Modulo Operator ,the token is 16\n",
      "= is a Assignment ,the token is 12\n",
      "= is a Assignment ,the token is 12\n"
     ]
    }
   ],
   "source": [
    "# – Addition\n",
    "# – Assignment\n",
    "# – Subtraction\n",
    "# – Division\n",
    "# – Multiplication\n",
    "# – Modulo Operator\n",
    "# – Logical And       #and\n",
    "# – Logical Or        #or\n",
    "# – Logical Not       #not\n",
    "# – Open Code Block   #{\n",
    "# – Close Code Block  #}\n",
    "# – Open Function parameter #(\n",
    "# – Close Function parameter #)\n",
    "# – Open Array index parameter #[\n",
    "# – Close Array index parameter #]\n",
    "for idt in list_text:\n",
    "    if idt=='+':\n",
    "        dict_lexemes[idt] = \"Addition\"\n",
    "        print(idt,\"is a\",dict_lexemes[idt],\",the token is\",dict_token[dict_lexemes[idt]])\n",
    "    if idt=='=':\n",
    "        dict_lexemes[idt] = \"Assignment\"\n",
    "        print(idt,\"is a\",dict_lexemes[idt],\",the token is\",dict_token[dict_lexemes[idt]])\n",
    "    if idt=='-':\n",
    "        dict_lexemes[idt] = \"Subtraction\"\n",
    "        print(idt,\"is a\",dict_lexemes[idt],\",the token is\",dict_token[dict_lexemes[idt]])\n",
    "    if idt=='/':\n",
    "        dict_lexemes[idt] = \"Division\"\n",
    "        print(idt,\"is a\",dict_lexemes[idt],\",the token is\",dict_token[dict_lexemes[idt]])\n",
    "    if idt=='*':\n",
    "        dict_lexemes[idt] = \"Multiplication\"\n",
    "        print(idt,\"is a\",dict_lexemes[idt],\",the token is\",dict_token[dict_lexemes[idt]])\n",
    "    if idt=='%':\n",
    "        dict_lexemes[idt] = \"Modulo Operator\"\n",
    "        print(idt,\"is a\",dict_lexemes[idt],\",the token is\",dict_token[dict_lexemes[idt]])\n",
    "    if idt=='and':\n",
    "        dict_lexemes[idt] = \"Logical And\"\n",
    "        print(idt,\"is a\",dict_lexemes[idt],\",the token is\",dict_token[dict_lexemes[idt]])\n",
    "    if idt=='or':\n",
    "        dict_lexemes[idt] = \"Logical Or\"\n",
    "        print(idt,\"is a\",dict_lexemes[idt],\",the token is\",dict_token[dict_lexemes[idt]])\n",
    "    if idt=='not':\n",
    "        dict_lexemes[idt] = \"Logical Not\"\n",
    "        print(idt,\"is a\",dict_lexemes[idt],\",the token is\",dict_token[dict_lexemes[idt]])\n",
    "    if idt=='{':\n",
    "        dict_lexemes[idt] = \"Open Code Block\"\n",
    "        print(idt,\"is a\",dict_lexemes[idt],\",the token is\",dict_token[dict_lexemes[idt]])\n",
    "    if idt=='}':\n",
    "        dict_lexemes[idt] = \"Close Code Block\"\n",
    "        print(idt,\"is a\",dict_lexemes[idt],\",the token is\",dict_token[dict_lexemes[idt]])\n",
    "    if idt=='(':\n",
    "        dict_lexemes[idt] = \"Open Function parameter\"\n",
    "        print(idt,\"is a\",dict_lexemes[idt],\",the token is\",dict_token[dict_lexemes[idt]])\n",
    "    if idt==')':\n",
    "        dict_lexemes[idt] = \"Close Function parameter\"\n",
    "        print(idt,\"is a\",dict_lexemes[idt],\",the token is\",dict_token[dict_lexemes[idt]])\n",
    "    if idt=='[':\n",
    "        dict_lexemes[idt] = \"Open Array index parameter\"\n",
    "        print(idt,\"is a\",dict_lexemes[idt],\",the token is\",dict_token[dict_lexemes[idt]])\n",
    "    if idt==']':\n",
    "        dict_lexemes[idt] = \"Close Array index parameter\"\n",
    "        print(idt,\"is a\",dict_lexemes[idt],\",the token is\",dict_token[dict_lexemes[idt]])\n"
   ]
  }
 ],
 "metadata": {
  "kernelspec": {
   "display_name": "Python 3",
   "language": "python",
   "name": "python3"
  },
  "language_info": {
   "codemirror_mode": {
    "name": "ipython",
    "version": 3
   },
   "file_extension": ".py",
   "mimetype": "text/x-python",
   "name": "python",
   "nbconvert_exporter": "python",
   "pygments_lexer": "ipython3",
   "version": "3.7.4"
  }
 },
 "nbformat": 4,
 "nbformat_minor": 2
}
